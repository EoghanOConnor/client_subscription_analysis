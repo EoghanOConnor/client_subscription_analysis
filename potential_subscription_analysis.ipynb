{
 "cells": [
  {
   "cell_type": "markdown",
   "metadata": {},
   "source": [
    "## Author : Eoghan O'Connor"
   ]
  },
  {
   "cell_type": "code",
   "execution_count": 368,
   "metadata": {},
   "outputs": [
    {
     "data": {
      "text/html": [
       "<div>\n",
       "<style scoped>\n",
       "    .dataframe tbody tr th:only-of-type {\n",
       "        vertical-align: middle;\n",
       "    }\n",
       "\n",
       "    .dataframe tbody tr th {\n",
       "        vertical-align: top;\n",
       "    }\n",
       "\n",
       "    .dataframe thead th {\n",
       "        text-align: right;\n",
       "    }\n",
       "</style>\n",
       "<table border=\"1\" class=\"dataframe\">\n",
       "  <thead>\n",
       "    <tr style=\"text-align: right;\">\n",
       "      <th></th>\n",
       "      <th>age</th>\n",
       "      <th>job</th>\n",
       "      <th>marital</th>\n",
       "      <th>education</th>\n",
       "      <th>default</th>\n",
       "      <th>balance</th>\n",
       "      <th>housing</th>\n",
       "      <th>loan</th>\n",
       "      <th>contact</th>\n",
       "      <th>day</th>\n",
       "      <th>month</th>\n",
       "      <th>duration</th>\n",
       "      <th>campaign</th>\n",
       "      <th>pdays</th>\n",
       "      <th>previous</th>\n",
       "      <th>poutcome</th>\n",
       "      <th>subscribed</th>\n",
       "    </tr>\n",
       "  </thead>\n",
       "  <tbody>\n",
       "    <tr>\n",
       "      <th>0</th>\n",
       "      <td>32.0</td>\n",
       "      <td>technician</td>\n",
       "      <td>single</td>\n",
       "      <td>tertiary</td>\n",
       "      <td>no</td>\n",
       "      <td>392</td>\n",
       "      <td>yes</td>\n",
       "      <td>no</td>\n",
       "      <td>cellular</td>\n",
       "      <td>1</td>\n",
       "      <td>apr</td>\n",
       "      <td>957</td>\n",
       "      <td>2</td>\n",
       "      <td>131</td>\n",
       "      <td>2</td>\n",
       "      <td>failure</td>\n",
       "      <td>no</td>\n",
       "    </tr>\n",
       "    <tr>\n",
       "      <th>1</th>\n",
       "      <td>39.0</td>\n",
       "      <td>technician</td>\n",
       "      <td>divorced</td>\n",
       "      <td>secondary</td>\n",
       "      <td>no</td>\n",
       "      <td>688</td>\n",
       "      <td>yes</td>\n",
       "      <td>yes</td>\n",
       "      <td>cellular</td>\n",
       "      <td>1</td>\n",
       "      <td>apr</td>\n",
       "      <td>233</td>\n",
       "      <td>2</td>\n",
       "      <td>133</td>\n",
       "      <td>1</td>\n",
       "      <td>failure</td>\n",
       "      <td>no</td>\n",
       "    </tr>\n",
       "    <tr>\n",
       "      <th>2</th>\n",
       "      <td>59.0</td>\n",
       "      <td>retired</td>\n",
       "      <td>married</td>\n",
       "      <td>secondary</td>\n",
       "      <td>no</td>\n",
       "      <td>1035</td>\n",
       "      <td>yes</td>\n",
       "      <td>yes</td>\n",
       "      <td>cellular</td>\n",
       "      <td>1</td>\n",
       "      <td>apr</td>\n",
       "      <td>126</td>\n",
       "      <td>2</td>\n",
       "      <td>239</td>\n",
       "      <td>1</td>\n",
       "      <td>failure</td>\n",
       "      <td>no</td>\n",
       "    </tr>\n",
       "    <tr>\n",
       "      <th>3</th>\n",
       "      <td>47.0</td>\n",
       "      <td>blue-collar</td>\n",
       "      <td>married</td>\n",
       "      <td>secondary</td>\n",
       "      <td>no</td>\n",
       "      <td>398</td>\n",
       "      <td>yes</td>\n",
       "      <td>yes</td>\n",
       "      <td>cellular</td>\n",
       "      <td>1</td>\n",
       "      <td>apr</td>\n",
       "      <td>274</td>\n",
       "      <td>1</td>\n",
       "      <td>238</td>\n",
       "      <td>2</td>\n",
       "      <td>failure</td>\n",
       "      <td>no</td>\n",
       "    </tr>\n",
       "    <tr>\n",
       "      <th>4</th>\n",
       "      <td>54.0</td>\n",
       "      <td>retired</td>\n",
       "      <td>married</td>\n",
       "      <td>secondary</td>\n",
       "      <td>no</td>\n",
       "      <td>1004</td>\n",
       "      <td>yes</td>\n",
       "      <td>no</td>\n",
       "      <td>cellular</td>\n",
       "      <td>1</td>\n",
       "      <td>apr</td>\n",
       "      <td>479</td>\n",
       "      <td>1</td>\n",
       "      <td>307</td>\n",
       "      <td>1</td>\n",
       "      <td>failure</td>\n",
       "      <td>no</td>\n",
       "    </tr>\n",
       "  </tbody>\n",
       "</table>\n",
       "</div>"
      ],
      "text/plain": [
       "    age          job   marital  education default  balance housing loan  \\\n",
       "0  32.0   technician    single   tertiary      no      392     yes   no   \n",
       "1  39.0   technician  divorced  secondary      no      688     yes  yes   \n",
       "2  59.0      retired   married  secondary      no     1035     yes  yes   \n",
       "3  47.0  blue-collar   married  secondary      no      398     yes  yes   \n",
       "4  54.0      retired   married  secondary      no     1004     yes   no   \n",
       "\n",
       "    contact  day month  duration  campaign  pdays  previous poutcome  \\\n",
       "0  cellular    1   apr       957         2    131         2  failure   \n",
       "1  cellular    1   apr       233         2    133         1  failure   \n",
       "2  cellular    1   apr       126         2    239         1  failure   \n",
       "3  cellular    1   apr       274         1    238         2  failure   \n",
       "4  cellular    1   apr       479         1    307         1  failure   \n",
       "\n",
       "  subscribed  \n",
       "0         no  \n",
       "1         no  \n",
       "2         no  \n",
       "3         no  \n",
       "4         no  "
      ]
     },
     "execution_count": 368,
     "metadata": {},
     "output_type": "execute_result"
    }
   ],
   "source": [
    "import pandas as pd\n",
    "import numpy as np\n",
    "from sklearn.preprocessing import RobustScaler, StandardScaler, MinMaxScaler\n",
    "import matplotlib.pyplot as plt\n",
    "%matplotlib inline\n",
    "\n",
    "df = pd.read_csv(\"./bank.csv\")\n",
    "df.head()"
   ]
  },
  {
   "cell_type": "code",
   "execution_count": 369,
   "metadata": {},
   "outputs": [],
   "source": [
    "df_original = df.copy()"
   ]
  },
  {
   "cell_type": "markdown",
   "metadata": {},
   "source": [
    "## B. Process and Encode the Categorical Features"
   ]
  },
  {
   "cell_type": "code",
   "execution_count": 370,
   "metadata": {},
   "outputs": [
    {
     "data": {
      "text/html": [
       "<div>\n",
       "<style scoped>\n",
       "    .dataframe tbody tr th:only-of-type {\n",
       "        vertical-align: middle;\n",
       "    }\n",
       "\n",
       "    .dataframe tbody tr th {\n",
       "        vertical-align: top;\n",
       "    }\n",
       "\n",
       "    .dataframe thead th {\n",
       "        text-align: right;\n",
       "    }\n",
       "</style>\n",
       "<table border=\"1\" class=\"dataframe\">\n",
       "  <thead>\n",
       "    <tr style=\"text-align: right;\">\n",
       "      <th></th>\n",
       "      <th>age</th>\n",
       "      <th>job</th>\n",
       "      <th>marital</th>\n",
       "      <th>education</th>\n",
       "      <th>default</th>\n",
       "      <th>balance</th>\n",
       "      <th>housing</th>\n",
       "      <th>loan</th>\n",
       "      <th>contact</th>\n",
       "      <th>day</th>\n",
       "      <th>month</th>\n",
       "      <th>duration</th>\n",
       "      <th>campaign</th>\n",
       "      <th>pdays</th>\n",
       "      <th>previous</th>\n",
       "      <th>poutcome</th>\n",
       "      <th>subscribed</th>\n",
       "    </tr>\n",
       "  </thead>\n",
       "  <tbody>\n",
       "    <tr>\n",
       "      <th>1995</th>\n",
       "      <td>20.0</td>\n",
       "      <td>student</td>\n",
       "      <td>single</td>\n",
       "      <td>NaN</td>\n",
       "      <td>no</td>\n",
       "      <td>2785</td>\n",
       "      <td>no</td>\n",
       "      <td>no</td>\n",
       "      <td>cellular</td>\n",
       "      <td>16</td>\n",
       "      <td>sep</td>\n",
       "      <td>327</td>\n",
       "      <td>2</td>\n",
       "      <td>-1</td>\n",
       "      <td>0</td>\n",
       "      <td>NaN</td>\n",
       "      <td>yes</td>\n",
       "    </tr>\n",
       "    <tr>\n",
       "      <th>1996</th>\n",
       "      <td>28.0</td>\n",
       "      <td>admin.</td>\n",
       "      <td>single</td>\n",
       "      <td>1.0</td>\n",
       "      <td>no</td>\n",
       "      <td>127</td>\n",
       "      <td>no</td>\n",
       "      <td>no</td>\n",
       "      <td>cellular</td>\n",
       "      <td>16</td>\n",
       "      <td>sep</td>\n",
       "      <td>1334</td>\n",
       "      <td>2</td>\n",
       "      <td>-1</td>\n",
       "      <td>0</td>\n",
       "      <td>NaN</td>\n",
       "      <td>yes</td>\n",
       "    </tr>\n",
       "    <tr>\n",
       "      <th>1997</th>\n",
       "      <td>81.0</td>\n",
       "      <td>retired</td>\n",
       "      <td>married</td>\n",
       "      <td>0.0</td>\n",
       "      <td>no</td>\n",
       "      <td>1154</td>\n",
       "      <td>no</td>\n",
       "      <td>no</td>\n",
       "      <td>telephone</td>\n",
       "      <td>17</td>\n",
       "      <td>sep</td>\n",
       "      <td>231</td>\n",
       "      <td>1</td>\n",
       "      <td>-1</td>\n",
       "      <td>0</td>\n",
       "      <td>NaN</td>\n",
       "      <td>yes</td>\n",
       "    </tr>\n",
       "    <tr>\n",
       "      <th>1998</th>\n",
       "      <td>46.0</td>\n",
       "      <td>services</td>\n",
       "      <td>married</td>\n",
       "      <td>0.0</td>\n",
       "      <td>no</td>\n",
       "      <td>4343</td>\n",
       "      <td>yes</td>\n",
       "      <td>no</td>\n",
       "      <td>NaN</td>\n",
       "      <td>20</td>\n",
       "      <td>sep</td>\n",
       "      <td>185</td>\n",
       "      <td>1</td>\n",
       "      <td>-1</td>\n",
       "      <td>0</td>\n",
       "      <td>NaN</td>\n",
       "      <td>yes</td>\n",
       "    </tr>\n",
       "    <tr>\n",
       "      <th>1999</th>\n",
       "      <td>40.0</td>\n",
       "      <td>entrepreneur</td>\n",
       "      <td>married</td>\n",
       "      <td>1.0</td>\n",
       "      <td>no</td>\n",
       "      <td>6403</td>\n",
       "      <td>no</td>\n",
       "      <td>no</td>\n",
       "      <td>cellular</td>\n",
       "      <td>22</td>\n",
       "      <td>sep</td>\n",
       "      <td>208</td>\n",
       "      <td>2</td>\n",
       "      <td>-1</td>\n",
       "      <td>0</td>\n",
       "      <td>NaN</td>\n",
       "      <td>yes</td>\n",
       "    </tr>\n",
       "  </tbody>\n",
       "</table>\n",
       "</div>"
      ],
      "text/plain": [
       "       age           job  marital  education default  balance housing loan  \\\n",
       "1995  20.0       student   single        NaN      no     2785      no   no   \n",
       "1996  28.0        admin.   single        1.0      no      127      no   no   \n",
       "1997  81.0       retired  married        0.0      no     1154      no   no   \n",
       "1998  46.0      services  married        0.0      no     4343     yes   no   \n",
       "1999  40.0  entrepreneur  married        1.0      no     6403      no   no   \n",
       "\n",
       "        contact  day month  duration  campaign  pdays  previous poutcome  \\\n",
       "1995   cellular   16   sep       327         2     -1         0      NaN   \n",
       "1996   cellular   16   sep      1334         2     -1         0      NaN   \n",
       "1997  telephone   17   sep       231         1     -1         0      NaN   \n",
       "1998        NaN   20   sep       185         1     -1         0      NaN   \n",
       "1999   cellular   22   sep       208         2     -1         0      NaN   \n",
       "\n",
       "     subscribed  \n",
       "1995        yes  \n",
       "1996        yes  \n",
       "1997        yes  \n",
       "1998        yes  \n",
       "1999        yes  "
      ]
     },
     "execution_count": 370,
     "metadata": {},
     "output_type": "execute_result"
    }
   ],
   "source": [
    "scale_mapper = {\n",
    "    \"primary\": 0,\n",
    "    \"secondary\": 1,\n",
    "    \"tertiary\": 2\n",
    "}\n",
    "\n",
    "df['education'] = df['education'].replace(scale_mapper)\n",
    "\n",
    "df.tail()"
   ]
  },
  {
   "cell_type": "markdown",
   "metadata": {},
   "source": [
    "<b>Above</b>: Education has 3 levels which ordinal. Therefore they are replaced with values 0-2."
   ]
  },
  {
   "cell_type": "code",
   "execution_count": 371,
   "metadata": {},
   "outputs": [
    {
     "data": {
      "text/plain": [
       "age            12\n",
       "job            10\n",
       "marital         0\n",
       "education     104\n",
       "default         0\n",
       "balance         0\n",
       "housing         0\n",
       "loan            0\n",
       "contact       191\n",
       "day             0\n",
       "month           0\n",
       "duration        0\n",
       "campaign        0\n",
       "pdays           0\n",
       "previous        0\n",
       "poutcome      454\n",
       "subscribed      0\n",
       "dtype: int64"
      ]
     },
     "execution_count": 371,
     "metadata": {},
     "output_type": "execute_result"
    }
   ],
   "source": [
    "df.isna().sum()"
   ]
  },
  {
   "cell_type": "code",
   "execution_count": 372,
   "metadata": {},
   "outputs": [
    {
     "data": {
      "text/html": [
       "<div>\n",
       "<style scoped>\n",
       "    .dataframe tbody tr th:only-of-type {\n",
       "        vertical-align: middle;\n",
       "    }\n",
       "\n",
       "    .dataframe tbody tr th {\n",
       "        vertical-align: top;\n",
       "    }\n",
       "\n",
       "    .dataframe thead th {\n",
       "        text-align: right;\n",
       "    }\n",
       "</style>\n",
       "<table border=\"1\" class=\"dataframe\">\n",
       "  <thead>\n",
       "    <tr style=\"text-align: right;\">\n",
       "      <th></th>\n",
       "      <th>age</th>\n",
       "      <th>job</th>\n",
       "      <th>education</th>\n",
       "      <th>balance</th>\n",
       "      <th>contact</th>\n",
       "      <th>day</th>\n",
       "      <th>month</th>\n",
       "      <th>duration</th>\n",
       "      <th>campaign</th>\n",
       "      <th>pdays</th>\n",
       "      <th>previous</th>\n",
       "      <th>subscribed</th>\n",
       "      <th>marital_married</th>\n",
       "      <th>marital_single</th>\n",
       "      <th>default_yes</th>\n",
       "      <th>housing_yes</th>\n",
       "      <th>loan_yes</th>\n",
       "      <th>poutcome_other</th>\n",
       "      <th>poutcome_success</th>\n",
       "    </tr>\n",
       "  </thead>\n",
       "  <tbody>\n",
       "    <tr>\n",
       "      <th>1995</th>\n",
       "      <td>20.0</td>\n",
       "      <td>student</td>\n",
       "      <td>NaN</td>\n",
       "      <td>2785</td>\n",
       "      <td>cellular</td>\n",
       "      <td>16</td>\n",
       "      <td>sep</td>\n",
       "      <td>327</td>\n",
       "      <td>2</td>\n",
       "      <td>-1</td>\n",
       "      <td>0</td>\n",
       "      <td>yes</td>\n",
       "      <td>0</td>\n",
       "      <td>1</td>\n",
       "      <td>0</td>\n",
       "      <td>0</td>\n",
       "      <td>0</td>\n",
       "      <td>0</td>\n",
       "      <td>0</td>\n",
       "    </tr>\n",
       "    <tr>\n",
       "      <th>1996</th>\n",
       "      <td>28.0</td>\n",
       "      <td>admin.</td>\n",
       "      <td>1.0</td>\n",
       "      <td>127</td>\n",
       "      <td>cellular</td>\n",
       "      <td>16</td>\n",
       "      <td>sep</td>\n",
       "      <td>1334</td>\n",
       "      <td>2</td>\n",
       "      <td>-1</td>\n",
       "      <td>0</td>\n",
       "      <td>yes</td>\n",
       "      <td>0</td>\n",
       "      <td>1</td>\n",
       "      <td>0</td>\n",
       "      <td>0</td>\n",
       "      <td>0</td>\n",
       "      <td>0</td>\n",
       "      <td>0</td>\n",
       "    </tr>\n",
       "    <tr>\n",
       "      <th>1997</th>\n",
       "      <td>81.0</td>\n",
       "      <td>retired</td>\n",
       "      <td>0.0</td>\n",
       "      <td>1154</td>\n",
       "      <td>telephone</td>\n",
       "      <td>17</td>\n",
       "      <td>sep</td>\n",
       "      <td>231</td>\n",
       "      <td>1</td>\n",
       "      <td>-1</td>\n",
       "      <td>0</td>\n",
       "      <td>yes</td>\n",
       "      <td>1</td>\n",
       "      <td>0</td>\n",
       "      <td>0</td>\n",
       "      <td>0</td>\n",
       "      <td>0</td>\n",
       "      <td>0</td>\n",
       "      <td>0</td>\n",
       "    </tr>\n",
       "    <tr>\n",
       "      <th>1998</th>\n",
       "      <td>46.0</td>\n",
       "      <td>services</td>\n",
       "      <td>0.0</td>\n",
       "      <td>4343</td>\n",
       "      <td>NaN</td>\n",
       "      <td>20</td>\n",
       "      <td>sep</td>\n",
       "      <td>185</td>\n",
       "      <td>1</td>\n",
       "      <td>-1</td>\n",
       "      <td>0</td>\n",
       "      <td>yes</td>\n",
       "      <td>1</td>\n",
       "      <td>0</td>\n",
       "      <td>0</td>\n",
       "      <td>1</td>\n",
       "      <td>0</td>\n",
       "      <td>0</td>\n",
       "      <td>0</td>\n",
       "    </tr>\n",
       "    <tr>\n",
       "      <th>1999</th>\n",
       "      <td>40.0</td>\n",
       "      <td>entrepreneur</td>\n",
       "      <td>1.0</td>\n",
       "      <td>6403</td>\n",
       "      <td>cellular</td>\n",
       "      <td>22</td>\n",
       "      <td>sep</td>\n",
       "      <td>208</td>\n",
       "      <td>2</td>\n",
       "      <td>-1</td>\n",
       "      <td>0</td>\n",
       "      <td>yes</td>\n",
       "      <td>1</td>\n",
       "      <td>0</td>\n",
       "      <td>0</td>\n",
       "      <td>0</td>\n",
       "      <td>0</td>\n",
       "      <td>0</td>\n",
       "      <td>0</td>\n",
       "    </tr>\n",
       "  </tbody>\n",
       "</table>\n",
       "</div>"
      ],
      "text/plain": [
       "       age           job  education  balance    contact  day month  duration  \\\n",
       "1995  20.0       student        NaN     2785   cellular   16   sep       327   \n",
       "1996  28.0        admin.        1.0      127   cellular   16   sep      1334   \n",
       "1997  81.0       retired        0.0     1154  telephone   17   sep       231   \n",
       "1998  46.0      services        0.0     4343        NaN   20   sep       185   \n",
       "1999  40.0  entrepreneur        1.0     6403   cellular   22   sep       208   \n",
       "\n",
       "      campaign  pdays  previous subscribed  marital_married  marital_single  \\\n",
       "1995         2     -1         0        yes                0               1   \n",
       "1996         2     -1         0        yes                0               1   \n",
       "1997         1     -1         0        yes                1               0   \n",
       "1998         1     -1         0        yes                1               0   \n",
       "1999         2     -1         0        yes                1               0   \n",
       "\n",
       "      default_yes  housing_yes  loan_yes  poutcome_other  poutcome_success  \n",
       "1995            0            0         0               0                 0  \n",
       "1996            0            0         0               0                 0  \n",
       "1997            0            0         0               0                 0  \n",
       "1998            0            1         0               0                 0  \n",
       "1999            0            0         0               0                 0  "
      ]
     },
     "execution_count": 372,
     "metadata": {},
     "output_type": "execute_result"
    }
   ],
   "source": [
    "df = pd.get_dummies(df, columns=['marital','default','housing','loan','poutcome'], \n",
    "                        dummy_na=False, \n",
    "                        drop_first=True)\n",
    "df.tail()"
   ]
  },
  {
   "cell_type": "code",
   "execution_count": 373,
   "metadata": {},
   "outputs": [
    {
     "data": {
      "text/html": [
       "<div>\n",
       "<style scoped>\n",
       "    .dataframe tbody tr th:only-of-type {\n",
       "        vertical-align: middle;\n",
       "    }\n",
       "\n",
       "    .dataframe tbody tr th {\n",
       "        vertical-align: top;\n",
       "    }\n",
       "\n",
       "    .dataframe thead th {\n",
       "        text-align: right;\n",
       "    }\n",
       "</style>\n",
       "<table border=\"1\" class=\"dataframe\">\n",
       "  <thead>\n",
       "    <tr style=\"text-align: right;\">\n",
       "      <th></th>\n",
       "      <th>age</th>\n",
       "      <th>education</th>\n",
       "      <th>balance</th>\n",
       "      <th>day</th>\n",
       "      <th>duration</th>\n",
       "      <th>campaign</th>\n",
       "      <th>pdays</th>\n",
       "      <th>previous</th>\n",
       "      <th>marital_married</th>\n",
       "      <th>marital_single</th>\n",
       "      <th>...</th>\n",
       "      <th>month_feb</th>\n",
       "      <th>month_jan</th>\n",
       "      <th>month_jul</th>\n",
       "      <th>month_jun</th>\n",
       "      <th>month_mar</th>\n",
       "      <th>month_may</th>\n",
       "      <th>month_nov</th>\n",
       "      <th>month_oct</th>\n",
       "      <th>month_sep</th>\n",
       "      <th>subscribed_yes</th>\n",
       "    </tr>\n",
       "  </thead>\n",
       "  <tbody>\n",
       "    <tr>\n",
       "      <th>0</th>\n",
       "      <td>32.0</td>\n",
       "      <td>2.0</td>\n",
       "      <td>392</td>\n",
       "      <td>1</td>\n",
       "      <td>957</td>\n",
       "      <td>2</td>\n",
       "      <td>131</td>\n",
       "      <td>2</td>\n",
       "      <td>0</td>\n",
       "      <td>1</td>\n",
       "      <td>...</td>\n",
       "      <td>0</td>\n",
       "      <td>0</td>\n",
       "      <td>0</td>\n",
       "      <td>0</td>\n",
       "      <td>0</td>\n",
       "      <td>0</td>\n",
       "      <td>0</td>\n",
       "      <td>0</td>\n",
       "      <td>0</td>\n",
       "      <td>0</td>\n",
       "    </tr>\n",
       "    <tr>\n",
       "      <th>1</th>\n",
       "      <td>39.0</td>\n",
       "      <td>1.0</td>\n",
       "      <td>688</td>\n",
       "      <td>1</td>\n",
       "      <td>233</td>\n",
       "      <td>2</td>\n",
       "      <td>133</td>\n",
       "      <td>1</td>\n",
       "      <td>0</td>\n",
       "      <td>0</td>\n",
       "      <td>...</td>\n",
       "      <td>0</td>\n",
       "      <td>0</td>\n",
       "      <td>0</td>\n",
       "      <td>0</td>\n",
       "      <td>0</td>\n",
       "      <td>0</td>\n",
       "      <td>0</td>\n",
       "      <td>0</td>\n",
       "      <td>0</td>\n",
       "      <td>0</td>\n",
       "    </tr>\n",
       "    <tr>\n",
       "      <th>2</th>\n",
       "      <td>59.0</td>\n",
       "      <td>1.0</td>\n",
       "      <td>1035</td>\n",
       "      <td>1</td>\n",
       "      <td>126</td>\n",
       "      <td>2</td>\n",
       "      <td>239</td>\n",
       "      <td>1</td>\n",
       "      <td>1</td>\n",
       "      <td>0</td>\n",
       "      <td>...</td>\n",
       "      <td>0</td>\n",
       "      <td>0</td>\n",
       "      <td>0</td>\n",
       "      <td>0</td>\n",
       "      <td>0</td>\n",
       "      <td>0</td>\n",
       "      <td>0</td>\n",
       "      <td>0</td>\n",
       "      <td>0</td>\n",
       "      <td>0</td>\n",
       "    </tr>\n",
       "    <tr>\n",
       "      <th>3</th>\n",
       "      <td>47.0</td>\n",
       "      <td>1.0</td>\n",
       "      <td>398</td>\n",
       "      <td>1</td>\n",
       "      <td>274</td>\n",
       "      <td>1</td>\n",
       "      <td>238</td>\n",
       "      <td>2</td>\n",
       "      <td>1</td>\n",
       "      <td>0</td>\n",
       "      <td>...</td>\n",
       "      <td>0</td>\n",
       "      <td>0</td>\n",
       "      <td>0</td>\n",
       "      <td>0</td>\n",
       "      <td>0</td>\n",
       "      <td>0</td>\n",
       "      <td>0</td>\n",
       "      <td>0</td>\n",
       "      <td>0</td>\n",
       "      <td>0</td>\n",
       "    </tr>\n",
       "    <tr>\n",
       "      <th>4</th>\n",
       "      <td>54.0</td>\n",
       "      <td>1.0</td>\n",
       "      <td>1004</td>\n",
       "      <td>1</td>\n",
       "      <td>479</td>\n",
       "      <td>1</td>\n",
       "      <td>307</td>\n",
       "      <td>1</td>\n",
       "      <td>1</td>\n",
       "      <td>0</td>\n",
       "      <td>...</td>\n",
       "      <td>0</td>\n",
       "      <td>0</td>\n",
       "      <td>0</td>\n",
       "      <td>0</td>\n",
       "      <td>0</td>\n",
       "      <td>0</td>\n",
       "      <td>0</td>\n",
       "      <td>0</td>\n",
       "      <td>0</td>\n",
       "      <td>0</td>\n",
       "    </tr>\n",
       "  </tbody>\n",
       "</table>\n",
       "<p>5 rows Ã— 38 columns</p>\n",
       "</div>"
      ],
      "text/plain": [
       "    age  education  balance  day  duration  campaign  pdays  previous  \\\n",
       "0  32.0        2.0      392    1       957         2    131         2   \n",
       "1  39.0        1.0      688    1       233         2    133         1   \n",
       "2  59.0        1.0     1035    1       126         2    239         1   \n",
       "3  47.0        1.0      398    1       274         1    238         2   \n",
       "4  54.0        1.0     1004    1       479         1    307         1   \n",
       "\n",
       "   marital_married  marital_single  ...  month_feb  month_jan  month_jul  \\\n",
       "0                0               1  ...          0          0          0   \n",
       "1                0               0  ...          0          0          0   \n",
       "2                1               0  ...          0          0          0   \n",
       "3                1               0  ...          0          0          0   \n",
       "4                1               0  ...          0          0          0   \n",
       "\n",
       "   month_jun  month_mar  month_may  month_nov  month_oct  month_sep  \\\n",
       "0          0          0          0          0          0          0   \n",
       "1          0          0          0          0          0          0   \n",
       "2          0          0          0          0          0          0   \n",
       "3          0          0          0          0          0          0   \n",
       "4          0          0          0          0          0          0   \n",
       "\n",
       "   subscribed_yes  \n",
       "0               0  \n",
       "1               0  \n",
       "2               0  \n",
       "3               0  \n",
       "4               0  \n",
       "\n",
       "[5 rows x 38 columns]"
      ]
     },
     "execution_count": 373,
     "metadata": {},
     "output_type": "execute_result"
    }
   ],
   "source": [
    "df = pd.get_dummies(df, drop_first=True)\n",
    "df.head()"
   ]
  },
  {
   "cell_type": "markdown",
   "metadata": {},
   "source": [
    "<b>Above</b>: One hot encoding the categorical categorical columns with NaNs. <br>\n",
    "Then one hot encoding all other categorical columns."
   ]
  },
  {
   "cell_type": "markdown",
   "metadata": {},
   "source": [
    "### Impute Missing Values"
   ]
  },
  {
   "cell_type": "code",
   "execution_count": 374,
   "metadata": {},
   "outputs": [
    {
     "data": {
      "text/plain": [
       "age                   12\n",
       "education            104\n",
       "balance                0\n",
       "day                    0\n",
       "duration               0\n",
       "campaign               0\n",
       "pdays                  0\n",
       "previous               0\n",
       "marital_married        0\n",
       "marital_single         0\n",
       "default_yes            0\n",
       "housing_yes            0\n",
       "loan_yes               0\n",
       "poutcome_other         0\n",
       "poutcome_success       0\n",
       "job_blue-collar        0\n",
       "job_entrepreneur       0\n",
       "job_housemaid          0\n",
       "job_management         0\n",
       "job_retired            0\n",
       "job_self-employed      0\n",
       "job_services           0\n",
       "job_student            0\n",
       "job_technician         0\n",
       "job_unemployed         0\n",
       "contact_telephone      0\n",
       "month_aug              0\n",
       "month_dec              0\n",
       "month_feb              0\n",
       "month_jan              0\n",
       "month_jul              0\n",
       "month_jun              0\n",
       "month_mar              0\n",
       "month_may              0\n",
       "month_nov              0\n",
       "month_oct              0\n",
       "month_sep              0\n",
       "subscribed_yes         0\n",
       "dtype: int64"
      ]
     },
     "execution_count": 374,
     "metadata": {},
     "output_type": "execute_result"
    }
   ],
   "source": [
    "df.isna().sum()"
   ]
  },
  {
   "cell_type": "code",
   "execution_count": 375,
   "metadata": {},
   "outputs": [
    {
     "data": {
      "text/plain": [
       "age                1.000000\n",
       "job_retired        0.590310\n",
       "marital_married    0.360775\n",
       "Name: age, dtype: float64"
      ]
     },
     "execution_count": 375,
     "metadata": {},
     "output_type": "execute_result"
    }
   ],
   "source": [
    "df.corr()['age'].nlargest(3)"
   ]
  },
  {
   "cell_type": "code",
   "execution_count": 376,
   "metadata": {},
   "outputs": [],
   "source": [
    " ptable = df.pivot_table(values='age',\n",
    "                       index='marital_married',\n",
    "                       columns='job_retired',\n",
    "                       aggfunc=np.median)\n",
    "ptable\n",
    "def get_element(x):\n",
    "    return ptable.loc[x['marital_married'], x['job_retired']]\n",
    "# Replace missing values\n",
    "df['age'].fillna(df[df['age'].isnull()].apply(get_element, axis=1), inplace=True)"
   ]
  },
  {
   "cell_type": "code",
   "execution_count": 377,
   "metadata": {},
   "outputs": [
    {
     "data": {
      "text/plain": [
       "education         1.000000\n",
       "job_management    0.532765\n",
       "marital_single    0.193190\n",
       "Name: education, dtype: float64"
      ]
     },
     "execution_count": 377,
     "metadata": {},
     "output_type": "execute_result"
    }
   ],
   "source": [
    "df.corr()['education'].nlargest(3)"
   ]
  },
  {
   "cell_type": "code",
   "execution_count": 378,
   "metadata": {},
   "outputs": [],
   "source": [
    "# Define function to return an element of the pivot table\n",
    "ptable = df.pivot_table(values='education', \n",
    "                        index='job_management',\n",
    "                        columns='marital_single',  \n",
    "                        aggfunc=np.median)\n",
    "ptable\n",
    "def get_element(x):\n",
    "    return ptable.loc[x['job_management'], x['marital_single']]\n",
    "\n",
    "# Replace missing values\n",
    "df['education'].fillna(df[df['education'].isnull()].apply(get_element, axis=1), inplace=True)"
   ]
  },
  {
   "cell_type": "markdown",
   "metadata": {},
   "source": [
    "<b>Above</b>: Filling in the missing values for age and education. This is done by using a ptable and highest correlations providing most accurate values. For age, marital_married and job_retired have the highest correlation. For education, job_management and martial_single has the highest correlation."
   ]
  },
  {
   "cell_type": "markdown",
   "metadata": {},
   "source": [
    "## C. Rescaling"
   ]
  },
  {
   "cell_type": "markdown",
   "metadata": {},
   "source": [
    "Quickly checking what the distributions are like"
   ]
  },
  {
   "cell_type": "code",
   "execution_count": 379,
   "metadata": {},
   "outputs": [
    {
     "data": {
      "image/png": "[encoded data removed]",
      "text/plain": [
       "<Figure size 432x288 with 1 Axes>"
      ]
     },
     "metadata": {
      "needs_background": "light"
     },
     "output_type": "display_data"
    },
    {
     "data": {
      "text/plain": [
       "<AxesSubplot:>"
      ]
     },
     "execution_count": 379,
     "metadata": {},
     "output_type": "execute_result"
    },
    {
     "data": {
      "image/png": "[encoded data removed]",
      "text/plain": [
       "<Figure size 432x288 with 1 Axes>"
      ]
     },
     "metadata": {
      "needs_background": "light"
     },
     "output_type": "display_data"
    }
   ],
   "source": [
    "df.boxplot(column=[ 'pdays','campaign','duration','previous','day','age'])\n",
    "plt.show()\n",
    "df.boxplot(column=['balance'])"
   ]
  },
  {
   "cell_type": "code",
   "execution_count": 380,
   "metadata": {},
   "outputs": [],
   "source": [
    "robust_scaler = RobustScaler()\n",
    "df[['pdays','duration','balance']] = robust_scaler.fit_transform(df[['pdays','duration','balance']])"
   ]
  },
  {
   "cell_type": "markdown",
   "metadata": {},
   "source": [
    "<b>Above</b>: Using RobustScaler to adjust pdays, duration,balance. RobustScaler does a good job of rescaling these columns as shown in the box plots they have significant outliers. The outcome is shown below."
   ]
  },
  {
   "cell_type": "code",
   "execution_count": 381,
   "metadata": {},
   "outputs": [
    {
     "data": {
      "image/png": "[encoded data removed]",
      "text/plain": [
       "<Figure size 432x288 with 1 Axes>"
      ]
     },
     "metadata": {
      "needs_background": "light"
     },
     "output_type": "display_data"
    },
    {
     "data": {
      "text/plain": [
       "<AxesSubplot:>"
      ]
     },
     "execution_count": 381,
     "metadata": {},
     "output_type": "execute_result"
    },
    {
     "data": {
      "image/png": "[encoded data removed]",
      "text/plain": [
       "<Figure size 432x288 with 1 Axes>"
      ]
     },
     "metadata": {
      "needs_background": "light"
     },
     "output_type": "display_data"
    }
   ],
   "source": [
    "df.boxplot(column=[ 'pdays','duration'])\n",
    "plt.show()\n",
    "df.boxplot(column=[ 'balance'])"
   ]
  },
  {
   "cell_type": "code",
   "execution_count": 382,
   "metadata": {},
   "outputs": [
    {
     "data": {
      "image/png": "[encoded data removed]",
      "text/plain": [
       "<Figure size 1152x288 with 2 Axes>"
      ]
     },
     "metadata": {
      "needs_background": "light"
     },
     "output_type": "display_data"
    }
   ],
   "source": [
    "# Create figure with two subplots\n",
    "fig = plt.figure(figsize=(16,4))\n",
    "\n",
    "# Plot ApplicantIncome\n",
    "ax1 = fig.add_subplot(1, 2, 1)\n",
    "ax1.set_title(\"Histogram of campaign\")\n",
    "ax1.set_xlabel('Number of clients')\n",
    "ax1.set_ylabel('campaign')\n",
    "df['campaign'].hist(bins=20)\n",
    "# Plot ApplicantIncome\n",
    "\n",
    "# Plot LoanAmount\n",
    "ax3 = fig.add_subplot(1, 2, 2)\n",
    "ax3.set_title(\"Histogram of age\")\n",
    "ax3.set_xlabel('number of customers')\n",
    "ax3.set_ylabel('age')\n",
    "df['age'].hist(bins=20)\n",
    "\n",
    "plt.show()"
   ]
  },
  {
   "cell_type": "code",
   "execution_count": 383,
   "metadata": {},
   "outputs": [],
   "source": [
    "MinMaxScaler_scaler = MinMaxScaler()\n",
    "df[['campaign']] = MinMaxScaler_scaler.fit_transform(df[['campaign']])\n",
    "df[['age']] = MinMaxScaler_scaler.fit_transform(df[['age']])"
   ]
  },
  {
   "cell_type": "markdown",
   "metadata": {},
   "source": [
    "<b>Above</b>: campaign and age dont have any significant outlers as shown. Age provides a gaussian distribution. As for campaign there isn't anything significant that can be done to adjust the distribution to be more gaussian. MinMax scaling is used to adjust values to be between 0-1."
   ]
  },
  {
   "cell_type": "code",
   "execution_count": 384,
   "metadata": {},
   "outputs": [
    {
     "data": {
      "image/png": "[encoded data removed]",
      "text/plain": [
       "<Figure size 1152x288 with 2 Axes>"
      ]
     },
     "metadata": {
      "needs_background": "light"
     },
     "output_type": "display_data"
    }
   ],
   "source": [
    "# Create figure with two subplots\n",
    "fig = plt.figure(figsize=(16,4))\n",
    "\n",
    "# Plot ApplicantIncome\n",
    "ax1 = fig.add_subplot(1, 2, 1)\n",
    "ax1.set_title(\"Histogram of campaign\")\n",
    "ax1.set_xlabel('Number of clients')\n",
    "ax1.set_ylabel('campaign')\n",
    "df['campaign'].hist(bins=20)\n",
    "# Plot ApplicantIncome\n",
    "\n",
    "# Plot LoanAmount\n",
    "ax3 = fig.add_subplot(1, 2, 2)\n",
    "ax3.set_title(\"Histogram of age\")\n",
    "ax3.set_xlabel('number of customers')\n",
    "ax3.set_ylabel('age')\n",
    "df['age'].hist(bins=20)\n",
    "\n",
    "plt.show()"
   ]
  },
  {
   "cell_type": "code",
   "execution_count": 385,
   "metadata": {},
   "outputs": [],
   "source": [
    "df['education'] = df['education']/2"
   ]
  },
  {
   "cell_type": "markdown",
   "metadata": {},
   "source": [
    "Above: Education was given values from 0-2. Therefore by dividing by this will rescale the values appropiately."
   ]
  },
  {
   "cell_type": "code",
   "execution_count": 386,
   "metadata": {},
   "outputs": [
    {
     "data": {
      "text/html": [
       "<div>\n",
       "<style scoped>\n",
       "    .dataframe tbody tr th:only-of-type {\n",
       "        vertical-align: middle;\n",
       "    }\n",
       "\n",
       "    .dataframe tbody tr th {\n",
       "        vertical-align: top;\n",
       "    }\n",
       "\n",
       "    .dataframe thead th {\n",
       "        text-align: right;\n",
       "    }\n",
       "</style>\n",
       "<table border=\"1\" class=\"dataframe\">\n",
       "  <thead>\n",
       "    <tr style=\"text-align: right;\">\n",
       "      <th></th>\n",
       "      <th>age</th>\n",
       "      <th>education</th>\n",
       "      <th>balance</th>\n",
       "      <th>day</th>\n",
       "      <th>duration</th>\n",
       "      <th>campaign</th>\n",
       "      <th>pdays</th>\n",
       "      <th>previous</th>\n",
       "      <th>marital_married</th>\n",
       "      <th>marital_single</th>\n",
       "      <th>...</th>\n",
       "      <th>month_feb</th>\n",
       "      <th>month_jan</th>\n",
       "      <th>month_jul</th>\n",
       "      <th>month_jun</th>\n",
       "      <th>month_mar</th>\n",
       "      <th>month_may</th>\n",
       "      <th>month_nov</th>\n",
       "      <th>month_oct</th>\n",
       "      <th>month_sep</th>\n",
       "      <th>subscribed_yes</th>\n",
       "    </tr>\n",
       "  </thead>\n",
       "  <tbody>\n",
       "    <tr>\n",
       "      <th>0</th>\n",
       "      <td>0.186667</td>\n",
       "      <td>1.0</td>\n",
       "      <td>-0.110187</td>\n",
       "      <td>1</td>\n",
       "      <td>3.094421</td>\n",
       "      <td>0.1</td>\n",
       "      <td>-0.291013</td>\n",
       "      <td>2</td>\n",
       "      <td>0</td>\n",
       "      <td>1</td>\n",
       "      <td>...</td>\n",
       "      <td>0</td>\n",
       "      <td>0</td>\n",
       "      <td>0</td>\n",
       "      <td>0</td>\n",
       "      <td>0</td>\n",
       "      <td>0</td>\n",
       "      <td>0</td>\n",
       "      <td>0</td>\n",
       "      <td>0</td>\n",
       "      <td>0</td>\n",
       "    </tr>\n",
       "    <tr>\n",
       "      <th>1</th>\n",
       "      <td>0.280000</td>\n",
       "      <td>0.5</td>\n",
       "      <td>0.094941</td>\n",
       "      <td>1</td>\n",
       "      <td>-0.012876</td>\n",
       "      <td>0.1</td>\n",
       "      <td>-0.279601</td>\n",
       "      <td>1</td>\n",
       "      <td>0</td>\n",
       "      <td>0</td>\n",
       "      <td>...</td>\n",
       "      <td>0</td>\n",
       "      <td>0</td>\n",
       "      <td>0</td>\n",
       "      <td>0</td>\n",
       "      <td>0</td>\n",
       "      <td>0</td>\n",
       "      <td>0</td>\n",
       "      <td>0</td>\n",
       "      <td>0</td>\n",
       "      <td>0</td>\n",
       "    </tr>\n",
       "    <tr>\n",
       "      <th>2</th>\n",
       "      <td>0.546667</td>\n",
       "      <td>0.5</td>\n",
       "      <td>0.335412</td>\n",
       "      <td>1</td>\n",
       "      <td>-0.472103</td>\n",
       "      <td>0.1</td>\n",
       "      <td>0.325250</td>\n",
       "      <td>1</td>\n",
       "      <td>1</td>\n",
       "      <td>0</td>\n",
       "      <td>...</td>\n",
       "      <td>0</td>\n",
       "      <td>0</td>\n",
       "      <td>0</td>\n",
       "      <td>0</td>\n",
       "      <td>0</td>\n",
       "      <td>0</td>\n",
       "      <td>0</td>\n",
       "      <td>0</td>\n",
       "      <td>0</td>\n",
       "      <td>0</td>\n",
       "    </tr>\n",
       "    <tr>\n",
       "      <th>3</th>\n",
       "      <td>0.386667</td>\n",
       "      <td>0.5</td>\n",
       "      <td>-0.106029</td>\n",
       "      <td>1</td>\n",
       "      <td>0.163090</td>\n",
       "      <td>0.0</td>\n",
       "      <td>0.319544</td>\n",
       "      <td>2</td>\n",
       "      <td>1</td>\n",
       "      <td>0</td>\n",
       "      <td>...</td>\n",
       "      <td>0</td>\n",
       "      <td>0</td>\n",
       "      <td>0</td>\n",
       "      <td>0</td>\n",
       "      <td>0</td>\n",
       "      <td>0</td>\n",
       "      <td>0</td>\n",
       "      <td>0</td>\n",
       "      <td>0</td>\n",
       "      <td>0</td>\n",
       "    </tr>\n",
       "    <tr>\n",
       "      <th>4</th>\n",
       "      <td>0.480000</td>\n",
       "      <td>0.5</td>\n",
       "      <td>0.313929</td>\n",
       "      <td>1</td>\n",
       "      <td>1.042918</td>\n",
       "      <td>0.0</td>\n",
       "      <td>0.713267</td>\n",
       "      <td>1</td>\n",
       "      <td>1</td>\n",
       "      <td>0</td>\n",
       "      <td>...</td>\n",
       "      <td>0</td>\n",
       "      <td>0</td>\n",
       "      <td>0</td>\n",
       "      <td>0</td>\n",
       "      <td>0</td>\n",
       "      <td>0</td>\n",
       "      <td>0</td>\n",
       "      <td>0</td>\n",
       "      <td>0</td>\n",
       "      <td>0</td>\n",
       "    </tr>\n",
       "  </tbody>\n",
       "</table>\n",
       "<p>5 rows Ã— 38 columns</p>\n",
       "</div>"
      ],
      "text/plain": [
       "        age  education   balance  day  duration  campaign     pdays  previous  \\\n",
       "0  0.186667        1.0 -0.110187    1  3.094421       0.1 -0.291013         2   \n",
       "1  0.280000        0.5  0.094941    1 -0.012876       0.1 -0.279601         1   \n",
       "2  0.546667        0.5  0.335412    1 -0.472103       0.1  0.325250         1   \n",
       "3  0.386667        0.5 -0.106029    1  0.163090       0.0  0.319544         2   \n",
       "4  0.480000        0.5  0.313929    1  1.042918       0.0  0.713267         1   \n",
       "\n",
       "   marital_married  marital_single  ...  month_feb  month_jan  month_jul  \\\n",
       "0                0               1  ...          0          0          0   \n",
       "1                0               0  ...          0          0          0   \n",
       "2                1               0  ...          0          0          0   \n",
       "3                1               0  ...          0          0          0   \n",
       "4                1               0  ...          0          0          0   \n",
       "\n",
       "   month_jun  month_mar  month_may  month_nov  month_oct  month_sep  \\\n",
       "0          0          0          0          0          0          0   \n",
       "1          0          0          0          0          0          0   \n",
       "2          0          0          0          0          0          0   \n",
       "3          0          0          0          0          0          0   \n",
       "4          0          0          0          0          0          0   \n",
       "\n",
       "   subscribed_yes  \n",
       "0               0  \n",
       "1               0  \n",
       "2               0  \n",
       "3               0  \n",
       "4               0  \n",
       "\n",
       "[5 rows x 38 columns]"
      ]
     },
     "execution_count": 386,
     "metadata": {},
     "output_type": "execute_result"
    }
   ],
   "source": [
    "df.head()"
   ]
  },
  {
   "cell_type": "markdown",
   "metadata": {},
   "source": [
    "### Treatment of Outliers"
   ]
  },
  {
   "cell_type": "code",
   "execution_count": 387,
   "metadata": {},
   "outputs": [
    {
     "data": {
      "image/png": "[encoded data removed]",
      "text/plain": [
       "<Figure size 432x288 with 1 Axes>"
      ]
     },
     "metadata": {
      "needs_background": "light"
     },
     "output_type": "display_data"
    }
   ],
   "source": [
    "df.boxplot(column=[ 'pdays','campaign','duration','balance','previous'])\n",
    "plt.show()"
   ]
  },
  {
   "cell_type": "code",
   "execution_count": 388,
   "metadata": {},
   "outputs": [
    {
     "data": {
      "image/png": "[encoded data removed]",
      "text/plain": [
       "<Figure size 1152x288 with 2 Axes>"
      ]
     },
     "metadata": {
      "needs_background": "light"
     },
     "output_type": "display_data"
    }
   ],
   "source": [
    "# Create figure with two subplots\n",
    "fig = plt.figure(figsize=(16,4))\n",
    "\n",
    "# Plot ApplicantIncome\n",
    "ax1 = fig.add_subplot(1, 2, 1)\n",
    "ax1.set_title(\"Histogram of balance\")\n",
    "ax1.set_xlabel('Number of clients')\n",
    "ax1.set_ylabel('balance')\n",
    "df['balance'].hist(bins=20)\n",
    "# Plot ApplicantIncome\n",
    "\n",
    "# Plot LoanAmount\n",
    "ax3 = fig.add_subplot(1, 2, 2)\n",
    "ax3.set_title(\"Histogram of duration\")\n",
    "ax3.set_xlabel('number of customers')\n",
    "ax3.set_ylabel('durations')\n",
    "df['duration'].hist(bins=20)\n",
    "\n",
    "plt.show()"
   ]
  },
  {
   "cell_type": "code",
   "execution_count": 389,
   "metadata": {},
   "outputs": [
    {
     "data": {
      "image/png": "[encoded data removed]",
      "text/plain": [
       "<Figure size 432x288 with 1 Axes>"
      ]
     },
     "metadata": {
      "needs_background": "light"
     },
     "output_type": "display_data"
    }
   ],
   "source": [
    "df['pdays'].hist(bins=20)\n",
    "plt.show()"
   ]
  },
  {
   "cell_type": "code",
   "execution_count": 390,
   "metadata": {},
   "outputs": [
    {
     "data": {
      "text/plain": [
       "balance    -1.060984\n",
       "duration   -0.982833\n",
       "pdays      -1.044223\n",
       "dtype: float64"
      ]
     },
     "execution_count": 390,
     "metadata": {},
     "output_type": "execute_result"
    }
   ],
   "source": [
    "df[['balance', 'duration','pdays']].min()"
   ]
  },
  {
   "cell_type": "code",
   "execution_count": 391,
   "metadata": {},
   "outputs": [],
   "source": [
    "# Use a log transformation to decrease the impact of outliers\n",
    "df['balance'] = np.log(df['balance']+2.061)\n",
    "df['duration'] = np.log(df['duration']+1.99)\n",
    "df['pdays'] = np.log(df['pdays']+2.04)"
   ]
  },
  {
   "cell_type": "markdown",
   "metadata": {},
   "source": [
    "Above: balance, duration are skewed to the left. To adjust this and make the distribution more even and to deal with the outliers a log transformation is used. Pdays has a tail to the left, which can be improved using a log transform. Making the data more gaussian."
   ]
  },
  {
   "cell_type": "code",
   "execution_count": 392,
   "metadata": {},
   "outputs": [
    {
     "data": {
      "image/png": "[encoded data removed]",
      "text/plain": [
       "<Figure size 1152x288 with 2 Axes>"
      ]
     },
     "metadata": {
      "needs_background": "light"
     },
     "output_type": "display_data"
    }
   ],
   "source": [
    "# Create figure with two subplots\n",
    "fig = plt.figure(figsize=(16,4))\n",
    "\n",
    "# Plot ApplicantIncome\n",
    "ax1 = fig.add_subplot(1, 2, 1)\n",
    "ax1.set_title(\"Histogram of balance\")\n",
    "ax1.set_xlabel('Number of clients')\n",
    "ax1.set_ylabel('balance')\n",
    "df['balance'].hist(bins=20)\n",
    "# Plot ApplicantIncome\n",
    "\n",
    "# Plot LoanAmount\n",
    "ax3 = fig.add_subplot(1, 2, 2)\n",
    "ax3.set_title(\"Histogram of duration\")\n",
    "ax3.set_xlabel('number of customers')\n",
    "ax3.set_ylabel('durations')\n",
    "df['duration'].hist(bins=20)\n",
    "\n",
    "plt.show()"
   ]
  },
  {
   "cell_type": "code",
   "execution_count": 393,
   "metadata": {},
   "outputs": [
    {
     "data": {
      "image/png": "[encoded data removed]",
      "text/plain": [
       "<Figure size 432x288 with 1 Axes>"
      ]
     },
     "metadata": {
      "needs_background": "light"
     },
     "output_type": "display_data"
    }
   ],
   "source": [
    "df['pdays'].hist(bins=20)\n",
    "plt.show()"
   ]
  },
  {
   "cell_type": "markdown",
   "metadata": {},
   "source": [
    "### Creation of Derived Features\n",
    "housing: has housing loan? (categorical: 'no','yes','unknown')<br>\n",
    "loan: has personal loan? (categorical: 'no','yes','unknown')"
   ]
  },
  {
   "cell_type": "code",
   "execution_count": 394,
   "metadata": {},
   "outputs": [
    {
     "data": {
      "image/png": "[encoded data removed]",
      "text/plain": [
       "<Figure size 432x288 with 1 Axes>"
      ]
     },
     "metadata": {
      "needs_background": "light"
     },
     "output_type": "display_data"
    }
   ],
   "source": [
    "df['finacial_independent'] = np.where((df['balance']> 0) & ( df['housing_yes']==0) & ( df['loan_yes']==0) & ( df['default_yes']==0), 1, 0)\n",
    "df['finacial_independent'].hist(bins=20)\n",
    "plt.show()"
   ]
  },
  {
   "cell_type": "code",
   "execution_count": 395,
   "metadata": {},
   "outputs": [
    {
     "data": {
      "text/plain": [
       "subscribed_yes          1.000000\n",
       "finacial_independent    0.589652\n",
       "poutcome_success        0.510117\n",
       "Name: subscribed_yes, dtype: float64"
      ]
     },
     "execution_count": 395,
     "metadata": {},
     "output_type": "execute_result"
    }
   ],
   "source": [
    "df.corr()['subscribed_yes'].nlargest(3)"
   ]
  },
  {
   "cell_type": "markdown",
   "metadata": {},
   "source": [
    "<b>Above</b>: New feature finacial_independent is created. This shows if the client owes money or not. This can give significant insight into the borrowings of the client and the financial pressures they're having. This returns the highest correlation for subscription at approx. .58 as shown above."
   ]
  },
  {
   "cell_type": "code",
   "execution_count": 396,
   "metadata": {},
   "outputs": [],
   "source": [
    "df['new_contact'] = np.where(df_original['pdays']== -1, 1, 0)"
   ]
  },
  {
   "cell_type": "code",
   "execution_count": 397,
   "metadata": {},
   "outputs": [
    {
     "data": {
      "text/plain": [
       "subscribed_yes          1.000000\n",
       "finacial_independent    0.589652\n",
       "poutcome_success        0.510117\n",
       "duration                0.459258\n",
       "month_jul               0.301840\n",
       "month_aug               0.270114\n",
       "month_sep               0.267976\n",
       "balance                 0.239526\n",
       "month_jun               0.234206\n",
       "month_oct               0.206587\n",
       "job_retired             0.201587\n",
       "job_student             0.182442\n",
       "day                     0.153196\n",
       "new_contact             0.145622\n",
       "marital_single          0.143859\n",
       "Name: subscribed_yes, dtype: float64"
      ]
     },
     "execution_count": 397,
     "metadata": {},
     "output_type": "execute_result"
    }
   ],
   "source": [
    "df.corr()['subscribed_yes'].nlargest(15)"
   ]
  },
  {
   "cell_type": "markdown",
   "metadata": {},
   "source": [
    "<b>Above</b>: New contact, shows if the client has never been contacted before. This has a reasonable correlation of .146 to subscription. This class was hidden among the pdays and offers alot of insight to how new contacts perform. This class could be used for testing also as they haven't been contacted."
   ]
  },
  {
   "cell_type": "markdown",
   "metadata": {},
   "source": [
    "### Dropping irrelavant columns"
   ]
  },
  {
   "cell_type": "code",
   "execution_count": 398,
   "metadata": {},
   "outputs": [
    {
     "data": {
      "image/png": "[encoded data removed]",
      "text/plain": [
       "<Figure size 432x288 with 1 Axes>"
      ]
     },
     "metadata": {
      "needs_background": "light"
     },
     "output_type": "display_data"
    }
   ],
   "source": [
    "df['day'].hist(bins=20)\n",
    "plt.show()"
   ]
  },
  {
   "cell_type": "code",
   "execution_count": 399,
   "metadata": {},
   "outputs": [],
   "source": [
    "df.drop('day', axis=1, inplace=True)"
   ]
  },
  {
   "cell_type": "markdown",
   "metadata": {},
   "source": [
    "<b>Above</b> The column day of the month is a cyclical category. It does really provide any signifcant details, Months provide the more significant information about time of year and is a better predictor. Therefore day is dropped as an irrelavant column."
   ]
  },
  {
   "cell_type": "code",
   "execution_count": 400,
   "metadata": {},
   "outputs": [
    {
     "data": {
      "text/html": [
       "<div>\n",
       "<style scoped>\n",
       "    .dataframe tbody tr th:only-of-type {\n",
       "        vertical-align: middle;\n",
       "    }\n",
       "\n",
       "    .dataframe tbody tr th {\n",
       "        vertical-align: top;\n",
       "    }\n",
       "\n",
       "    .dataframe thead th {\n",
       "        text-align: right;\n",
       "    }\n",
       "</style>\n",
       "<table border=\"1\" class=\"dataframe\">\n",
       "  <thead>\n",
       "    <tr style=\"text-align: right;\">\n",
       "      <th></th>\n",
       "      <th>age</th>\n",
       "      <th>education</th>\n",
       "      <th>balance</th>\n",
       "      <th>duration</th>\n",
       "      <th>campaign</th>\n",
       "      <th>pdays</th>\n",
       "      <th>previous</th>\n",
       "      <th>marital_married</th>\n",
       "      <th>marital_single</th>\n",
       "      <th>default_yes</th>\n",
       "      <th>...</th>\n",
       "      <th>month_jul</th>\n",
       "      <th>month_jun</th>\n",
       "      <th>month_mar</th>\n",
       "      <th>month_may</th>\n",
       "      <th>month_nov</th>\n",
       "      <th>month_oct</th>\n",
       "      <th>month_sep</th>\n",
       "      <th>subscribed_yes</th>\n",
       "      <th>finacial_independent</th>\n",
       "      <th>new_contact</th>\n",
       "    </tr>\n",
       "  </thead>\n",
       "  <tbody>\n",
       "    <tr>\n",
       "      <th>count</th>\n",
       "      <td>2000.000000</td>\n",
       "      <td>2000.000000</td>\n",
       "      <td>2000.000000</td>\n",
       "      <td>2000.000000</td>\n",
       "      <td>2000.000000</td>\n",
       "      <td>2000.000000</td>\n",
       "      <td>2000.000000</td>\n",
       "      <td>2000.000000</td>\n",
       "      <td>2000.000000</td>\n",
       "      <td>2000.000000</td>\n",
       "      <td>...</td>\n",
       "      <td>2000.000000</td>\n",
       "      <td>2000.000000</td>\n",
       "      <td>2000.000000</td>\n",
       "      <td>2000.000000</td>\n",
       "      <td>2000.000000</td>\n",
       "      <td>2000.000000</td>\n",
       "      <td>2000.000000</td>\n",
       "      <td>2000.000000</td>\n",
       "      <td>2000.000000</td>\n",
       "      <td>2000.000000</td>\n",
       "    </tr>\n",
       "    <tr>\n",
       "      <th>mean</th>\n",
       "      <td>0.316653</td>\n",
       "      <td>0.622500</td>\n",
       "      <td>0.864361</td>\n",
       "      <td>0.730507</td>\n",
       "      <td>0.090950</td>\n",
       "      <td>0.597845</td>\n",
       "      <td>2.561500</td>\n",
       "      <td>0.555500</td>\n",
       "      <td>0.337000</td>\n",
       "      <td>0.007500</td>\n",
       "      <td>...</td>\n",
       "      <td>0.083500</td>\n",
       "      <td>0.052000</td>\n",
       "      <td>0.035000</td>\n",
       "      <td>0.166500</td>\n",
       "      <td>0.034000</td>\n",
       "      <td>0.046500</td>\n",
       "      <td>0.067000</td>\n",
       "      <td>0.500000</td>\n",
       "      <td>0.476500</td>\n",
       "      <td>0.227000</td>\n",
       "    </tr>\n",
       "    <tr>\n",
       "      <th>std</th>\n",
       "      <td>0.169396</td>\n",
       "      <td>0.317087</td>\n",
       "      <td>0.403066</td>\n",
       "      <td>0.363811</td>\n",
       "      <td>0.137886</td>\n",
       "      <td>0.394928</td>\n",
       "      <td>3.400735</td>\n",
       "      <td>0.497034</td>\n",
       "      <td>0.472803</td>\n",
       "      <td>0.086299</td>\n",
       "      <td>...</td>\n",
       "      <td>0.276706</td>\n",
       "      <td>0.222083</td>\n",
       "      <td>0.183826</td>\n",
       "      <td>0.372622</td>\n",
       "      <td>0.181274</td>\n",
       "      <td>0.210618</td>\n",
       "      <td>0.250085</td>\n",
       "      <td>0.500125</td>\n",
       "      <td>0.499572</td>\n",
       "      <td>0.418997</td>\n",
       "    </tr>\n",
       "    <tr>\n",
       "      <th>min</th>\n",
       "      <td>0.000000</td>\n",
       "      <td>0.000000</td>\n",
       "      <td>0.000016</td>\n",
       "      <td>0.007142</td>\n",
       "      <td>0.000000</td>\n",
       "      <td>-0.004231</td>\n",
       "      <td>0.000000</td>\n",
       "      <td>0.000000</td>\n",
       "      <td>0.000000</td>\n",
       "      <td>0.000000</td>\n",
       "      <td>...</td>\n",
       "      <td>0.000000</td>\n",
       "      <td>0.000000</td>\n",
       "      <td>0.000000</td>\n",
       "      <td>0.000000</td>\n",
       "      <td>0.000000</td>\n",
       "      <td>0.000000</td>\n",
       "      <td>0.000000</td>\n",
       "      <td>0.000000</td>\n",
       "      <td>0.000000</td>\n",
       "      <td>0.000000</td>\n",
       "    </tr>\n",
       "    <tr>\n",
       "      <th>25%</th>\n",
       "      <td>0.186667</td>\n",
       "      <td>0.500000</td>\n",
       "      <td>0.598175</td>\n",
       "      <td>0.472335</td>\n",
       "      <td>0.000000</td>\n",
       "      <td>0.360273</td>\n",
       "      <td>1.000000</td>\n",
       "      <td>0.000000</td>\n",
       "      <td>0.000000</td>\n",
       "      <td>0.000000</td>\n",
       "      <td>...</td>\n",
       "      <td>0.000000</td>\n",
       "      <td>0.000000</td>\n",
       "      <td>0.000000</td>\n",
       "      <td>0.000000</td>\n",
       "      <td>0.000000</td>\n",
       "      <td>0.000000</td>\n",
       "      <td>0.000000</td>\n",
       "      <td>0.000000</td>\n",
       "      <td>0.000000</td>\n",
       "      <td>0.000000</td>\n",
       "    </tr>\n",
       "    <tr>\n",
       "      <th>50%</th>\n",
       "      <td>0.266667</td>\n",
       "      <td>0.500000</td>\n",
       "      <td>0.723191</td>\n",
       "      <td>0.688135</td>\n",
       "      <td>0.000000</td>\n",
       "      <td>0.712950</td>\n",
       "      <td>2.000000</td>\n",
       "      <td>1.000000</td>\n",
       "      <td>0.000000</td>\n",
       "      <td>0.000000</td>\n",
       "      <td>...</td>\n",
       "      <td>0.000000</td>\n",
       "      <td>0.000000</td>\n",
       "      <td>0.000000</td>\n",
       "      <td>0.000000</td>\n",
       "      <td>0.000000</td>\n",
       "      <td>0.000000</td>\n",
       "      <td>0.000000</td>\n",
       "      <td>0.500000</td>\n",
       "      <td>0.000000</td>\n",
       "      <td>0.000000</td>\n",
       "    </tr>\n",
       "    <tr>\n",
       "      <th>75%</th>\n",
       "      <td>0.426667</td>\n",
       "      <td>1.000000</td>\n",
       "      <td>1.036310</td>\n",
       "      <td>0.956947</td>\n",
       "      <td>0.100000</td>\n",
       "      <td>0.889422</td>\n",
       "      <td>3.000000</td>\n",
       "      <td>1.000000</td>\n",
       "      <td>1.000000</td>\n",
       "      <td>0.000000</td>\n",
       "      <td>...</td>\n",
       "      <td>0.000000</td>\n",
       "      <td>0.000000</td>\n",
       "      <td>0.000000</td>\n",
       "      <td>0.000000</td>\n",
       "      <td>0.000000</td>\n",
       "      <td>0.000000</td>\n",
       "      <td>0.000000</td>\n",
       "      <td>1.000000</td>\n",
       "      <td>1.000000</td>\n",
       "      <td>0.000000</td>\n",
       "    </tr>\n",
       "    <tr>\n",
       "      <th>max</th>\n",
       "      <td>1.000000</td>\n",
       "      <td>1.000000</td>\n",
       "      <td>4.059642</td>\n",
       "      <td>2.174883</td>\n",
       "      <td>1.000000</td>\n",
       "      <td>1.770625</td>\n",
       "      <td>55.000000</td>\n",
       "      <td>1.000000</td>\n",
       "      <td>1.000000</td>\n",
       "      <td>1.000000</td>\n",
       "      <td>...</td>\n",
       "      <td>1.000000</td>\n",
       "      <td>1.000000</td>\n",
       "      <td>1.000000</td>\n",
       "      <td>1.000000</td>\n",
       "      <td>1.000000</td>\n",
       "      <td>1.000000</td>\n",
       "      <td>1.000000</td>\n",
       "      <td>1.000000</td>\n",
       "      <td>1.000000</td>\n",
       "      <td>1.000000</td>\n",
       "    </tr>\n",
       "  </tbody>\n",
       "</table>\n",
       "<p>8 rows Ã— 39 columns</p>\n",
       "</div>"
      ],
      "text/plain": [
       "               age    education      balance     duration     campaign  \\\n",
       "count  2000.000000  2000.000000  2000.000000  2000.000000  2000.000000   \n",
       "mean      0.316653     0.622500     0.864361     0.730507     0.090950   \n",
       "std       0.169396     0.317087     0.403066     0.363811     0.137886   \n",
       "min       0.000000     0.000000     0.000016     0.007142     0.000000   \n",
       "25%       0.186667     0.500000     0.598175     0.472335     0.000000   \n",
       "50%       0.266667     0.500000     0.723191     0.688135     0.000000   \n",
       "75%       0.426667     1.000000     1.036310     0.956947     0.100000   \n",
       "max       1.000000     1.000000     4.059642     2.174883     1.000000   \n",
       "\n",
       "             pdays     previous  marital_married  marital_single  default_yes  \\\n",
       "count  2000.000000  2000.000000      2000.000000     2000.000000  2000.000000   \n",
       "mean      0.597845     2.561500         0.555500        0.337000     0.007500   \n",
       "std       0.394928     3.400735         0.497034        0.472803     0.086299   \n",
       "min      -0.004231     0.000000         0.000000        0.000000     0.000000   \n",
       "25%       0.360273     1.000000         0.000000        0.000000     0.000000   \n",
       "50%       0.712950     2.000000         1.000000        0.000000     0.000000   \n",
       "75%       0.889422     3.000000         1.000000        1.000000     0.000000   \n",
       "max       1.770625    55.000000         1.000000        1.000000     1.000000   \n",
       "\n",
       "       ...    month_jul    month_jun    month_mar    month_may    month_nov  \\\n",
       "count  ...  2000.000000  2000.000000  2000.000000  2000.000000  2000.000000   \n",
       "mean   ...     0.083500     0.052000     0.035000     0.166500     0.034000   \n",
       "std    ...     0.276706     0.222083     0.183826     0.372622     0.181274   \n",
       "min    ...     0.000000     0.000000     0.000000     0.000000     0.000000   \n",
       "25%    ...     0.000000     0.000000     0.000000     0.000000     0.000000   \n",
       "50%    ...     0.000000     0.000000     0.000000     0.000000     0.000000   \n",
       "75%    ...     0.000000     0.000000     0.000000     0.000000     0.000000   \n",
       "max    ...     1.000000     1.000000     1.000000     1.000000     1.000000   \n",
       "\n",
       "         month_oct    month_sep  subscribed_yes  finacial_independent  \\\n",
       "count  2000.000000  2000.000000     2000.000000           2000.000000   \n",
       "mean      0.046500     0.067000        0.500000              0.476500   \n",
       "std       0.210618     0.250085        0.500125              0.499572   \n",
       "min       0.000000     0.000000        0.000000              0.000000   \n",
       "25%       0.000000     0.000000        0.000000              0.000000   \n",
       "50%       0.000000     0.000000        0.500000              0.000000   \n",
       "75%       0.000000     0.000000        1.000000              1.000000   \n",
       "max       1.000000     1.000000        1.000000              1.000000   \n",
       "\n",
       "       new_contact  \n",
       "count  2000.000000  \n",
       "mean      0.227000  \n",
       "std       0.418997  \n",
       "min       0.000000  \n",
       "25%       0.000000  \n",
       "50%       0.000000  \n",
       "75%       0.000000  \n",
       "max       1.000000  \n",
       "\n",
       "[8 rows x 39 columns]"
      ]
     },
     "execution_count": 400,
     "metadata": {},
     "output_type": "execute_result"
    }
   ],
   "source": [
    "df.describe()"
   ]
  },
  {
   "cell_type": "markdown",
   "metadata": {},
   "source": [
    "# Save prepared dataset"
   ]
  },
  {
   "cell_type": "code",
   "execution_count": 401,
   "metadata": {},
   "outputs": [],
   "source": [
    "df.to_csv('bank_train_prepared.csv')"
   ]
  }
 ],
 "metadata": {
  "kernelspec": {
   "display_name": "Python 3 (ipykernel)",
   "language": "python",
   "name": "python3"
  },
  "language_info": {
   "codemirror_mode": {
    "name": "ipython",
    "version": 3
   },
   "file_extension": ".py",
   "mimetype": "text/x-python",
   "name": "python",
   "nbconvert_exporter": "python",
   "pygments_lexer": "ipython3",
   "version": "3.9.13"
  }
 },
 "nbformat": 4,
 "nbformat_minor": 4
}
